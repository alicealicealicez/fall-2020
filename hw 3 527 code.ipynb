{
 "cells": [
  {
   "cell_type": "code",
   "execution_count": 9,
   "metadata": {},
   "outputs": [],
   "source": [
    "a = 'ACTTGGCCAT' \n",
    "b = 'AGTAGCGCCT'\n",
    "def dotcounter(A, B):\n",
    "    counter = 0\n",
    "    print('Matches:')\n",
    "    for i in range(len(A)):\n",
    "        for j in range(len(B)):\n",
    "            if A[i] == B[j]:\n",
    "                counter += 1\n",
    "                print('A', i, \" and \", 'B', j)\n",
    "    print('Total matches: \\n',counter)\n"
   ]
  },
  {
   "cell_type": "code",
   "execution_count": 10,
   "metadata": {},
   "outputs": [
    {
     "name": "stdout",
     "output_type": "stream",
     "text": [
      "Matches:\n",
      "A 0  and  B 0\n",
      "A 0  and  B 3\n",
      "A 1  and  B 5\n",
      "A 1  and  B 7\n",
      "A 1  and  B 8\n",
      "A 2  and  B 2\n",
      "A 2  and  B 9\n",
      "A 3  and  B 2\n",
      "A 3  and  B 9\n",
      "A 4  and  B 1\n",
      "A 4  and  B 4\n",
      "A 4  and  B 6\n",
      "A 5  and  B 1\n",
      "A 5  and  B 4\n",
      "A 5  and  B 6\n",
      "A 6  and  B 5\n",
      "A 6  and  B 7\n",
      "A 6  and  B 8\n",
      "A 7  and  B 5\n",
      "A 7  and  B 7\n",
      "A 7  and  B 8\n",
      "A 8  and  B 0\n",
      "A 8  and  B 3\n",
      "A 9  and  B 2\n",
      "A 9  and  B 9\n",
      "Total matches: \n",
      " 25\n"
     ]
    }
   ],
   "source": [
    "a = 'ACTTGGCCAT' \n",
    "b = 'AGTAGCGCCT'\n",
    "dotcounter(a,b)"
   ]
  },
  {
   "cell_type": "code",
   "execution_count": 16,
   "metadata": {},
   "outputs": [],
   "source": [
    "def global_alignment(A, B):\n",
    "    counter = 0\n",
    "    scores = []\n",
    "    for i in range(len(A)):\n",
    "        counter = 0\n",
    "        for j in range(len(B)):\n",
    "            if A[i] == B[j]:\n",
    "                counter += 1\n",
    "                scores.append(counter)\n",
    "            else:\n",
    "                if i != j:\n",
    "                    counter -= 1\n",
    "                    scores.append(counter)\n",
    "                else:\n",
    "                    scores.append(counter)\n",
    "    print(scores)\n",
    "                "
   ]
  },
  {
   "cell_type": "code",
   "execution_count": 17,
   "metadata": {},
   "outputs": [
    {
     "name": "stdout",
     "output_type": "stream",
     "text": [
      "[1, 0, -1, 0, -1, -2, -3, -4, -5, -6, -1, -1, -2, -3, -4, -3, -4, -3, -2, -3, -1, -2, -1, -2, -3, -4, -5, -6, -7, -6, -1, -2, -1, -1, -2, -3, -4, -5, -6, -5, -1, 0, -1, -2, -1, -2, -1, -2, -3, -4, -1, 0, -1, -2, -1, -1, 0, -1, -2, -3, -1, -2, -3, -4, -5, -4, -4, -3, -2, -3, -1, -2, -3, -4, -5, -4, -5, -4, -3, -4, 1, 0, -1, 0, -1, -2, -3, -4, -4, -5, -1, -2, -1, -2, -3, -4, -5, -6, -7, -6]\n"
     ]
    }
   ],
   "source": [
    "global_alignment(a,b)"
   ]
  },
  {
   "cell_type": "code",
   "execution_count": null,
   "metadata": {},
   "outputs": [],
   "source": [
    "def nw(a, b):\n",
    "    lena = len(a)\n",
    "    lenb = len(b)\n",
    "    # Optimal score at each possible pair of characters.\n",
    "    F = np.zeros((nx + 1, ny + 1))\n",
    "    F[:,0] = np.linspace(0, -nx, nx + 1)\n",
    "    F[0,:] = np.linspace(0, -ny, ny + 1)\n",
    "    # Pointers to trace through an optimal aligment.\n",
    "    P = np.zeros((nx + 1, ny + 1))\n",
    "    P[:,0] = 3\n",
    "    P[0,:] = 4\n",
    "    # Temporary scores.\n",
    "    t = np.zeros(3)\n",
    "    for i in range(nx):\n",
    "        for j in range(ny):\n",
    "            if x[i] == y[j]:\n",
    "                t[0] = F[i,j] + match\n",
    "            else:\n",
    "                t[0] = F[i,j] - mismatch\n",
    "            t[1] = F[i,j+1] - gap\n",
    "            t[2] = F[i+1,j] - gap\n",
    "            tmax = np.max(t)\n",
    "            F[i+1,j+1] = tmax\n",
    "            if t[0] == tmax:\n",
    "                P[i+1,j+1] += 2\n",
    "            if t[1] == tmax:\n",
    "                P[i+1,j+1] += 3\n",
    "            if t[2] == tmax:\n",
    "                P[i+1,j+1] += 4\n",
    "    # Trace through an optimal alignment.\n",
    "    i = nx\n",
    "    j = ny\n",
    "    rx = []\n",
    "    ry = []\n",
    "    while i > 0 or j > 0:\n",
    "        if P[i,j] in [2, 5, 6, 9]:\n",
    "            rx.append(x[i-1])\n",
    "            ry.append(y[j-1])\n",
    "            i -= 1\n",
    "            j -= 1\n",
    "        elif P[i,j] in [3, 5, 7, 9]:\n",
    "            rx.append(x[i-1])\n",
    "            ry.append('-')\n",
    "            i -= 1\n",
    "        elif P[i,j] in [4, 6, 7, 9]:\n",
    "            rx.append('-')\n",
    "            ry.append(y[j-1])\n",
    "            j -= 1\n",
    "    # Reverse the strings.\n",
    "    rx = ''.join(rx)[::-1]\n",
    "    ry = ''.join(ry)[::-1]\n",
    "    return '\\n'.join([rx, ry])"
   ]
  }
 ],
 "metadata": {
  "kernelspec": {
   "display_name": "Python 3",
   "language": "python",
   "name": "python3"
  },
  "language_info": {
   "codemirror_mode": {
    "name": "ipython",
    "version": 3
   },
   "file_extension": ".py",
   "mimetype": "text/x-python",
   "name": "python",
   "nbconvert_exporter": "python",
   "pygments_lexer": "ipython3",
   "version": "3.8.5"
  }
 },
 "nbformat": 4,
 "nbformat_minor": 4
}
