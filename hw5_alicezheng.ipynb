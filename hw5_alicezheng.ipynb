{
 "cells": [
  {
   "cell_type": "markdown",
   "metadata": {},
   "source": [
    "This problem can be solved by a large number of methods. I suggest that you pursue a computational\n",
    "approach. That is implement classes or functions that simulate the outcomes in control and treatment\n",
    "arms; implement a class or function that performs a permutation test; and determine the probability of a\n",
    "statistically significant difference at α = 0.05 level for a few values of N. Based on that plot, determine a\n",
    "suitable value of N that the problem asks for. Then perform simulations at this N and confirm that there is\n",
    "indeed about 90% chance that the trial passes the statistical test."
   ]
  },
  {
   "cell_type": "code",
   "execution_count": 57,
   "metadata": {},
   "outputs": [],
   "source": [
    "import random\n",
    "import numpy as np\n",
    "import matplotlib.pyplot as plt\n",
    "\n",
    "def sim(N):\n",
    "    #simulates one round of outcomes with sample size N\n",
    "    cinfected = []\n",
    "    tinfected = []\n",
    "    \n",
    "    for i in range(N):\n",
    "        n1 = random.random()\n",
    "        if n1 > 0.5:\n",
    "            cinfected.append(1)\n",
    "        else:\n",
    "            cinfected.append(0)\n",
    "        n2 = random.random()\n",
    "        if n2 > 0.1:\n",
    "            tinfected.append(1)\n",
    "        else:\n",
    "            tinfected.append(0)\n",
    "    \n",
    "    return cinfected, tinfected\n",
    "\n",
    "def perm(N):\n",
    "    #does a permutation test with 3000 shuffles and returns the p value \n",
    "    c, t = sim(N)\n",
    "    n = len(c)\n",
    "    pv = []\n",
    "    diff = (sum(t)/len(t)) - (sum(c)/len(c))\n",
    "    l = np.concatenate([c, t])\n",
    "    for j in range(3000):\n",
    "        np.random.shuffle(l)\n",
    "        pv.append(np.abs(np.mean(l[:n]) - np.mean(l[n:])))\n",
    "    count = 0\n",
    "    for i in pv :\n",
    "        if i >= diff:\n",
    "            count += 1\n",
    "    return  count/len(pv)\n",
    "\n",
    "def stat(N):\n",
    "    #calculates the probability that there will be a statistically significant difference \n",
    "    a = 0\n",
    "    b = 0\n",
    "    for i in range(100):\n",
    "        pval = perm(N)\n",
    "        if pval < 0.05:\n",
    "            a += 1\n",
    "        else:\n",
    "            b += 1\n",
    "    return a/100\n"
   ]
  },
  {
   "cell_type": "code",
   "execution_count": 54,
   "metadata": {},
   "outputs": [
    {
     "data": {
      "text/plain": [
       "[0.74,\n",
       " 0.72,\n",
       " 0.84,\n",
       " 0.91,\n",
       " 0.92,\n",
       " 0.89,\n",
       " 0.92,\n",
       " 0.95,\n",
       " 0.97,\n",
       " 0.97,\n",
       " 0.97,\n",
       " 0.97,\n",
       " 0.98,\n",
       " 1.0,\n",
       " 0.98,\n",
       " 0.98]"
      ]
     },
     "execution_count": 54,
     "metadata": {},
     "output_type": "execute_result"
    }
   ],
   "source": [
    "#determines the probabilities for several values of N\n",
    "sizes = [20,22,24,26,28,30,32,34,36,38,40,42,44,46,48,50]\n",
    "sp = []\n",
    "for i in sizes:\n",
    "    sp.append(stat(i))\n",
    "sp"
   ]
  },
  {
   "cell_type": "code",
   "execution_count": 55,
   "metadata": {},
   "outputs": [
    {
     "data": {
      "text/plain": [
       "<BarContainer object of 16 artists>"
      ]
     },
     "execution_count": 55,
     "metadata": {},
     "output_type": "execute_result"
    },
    {
     "data": {
      "image/png": "[encoded data removed]",
      "text/plain": [
       "<Figure size 432x288 with 1 Axes>"
      ]
     },
     "metadata": {
      "needs_background": "light"
     },
     "output_type": "display_data"
    }
   ],
   "source": [
    "#bar graph of results\n",
    "plt.bar(sizes,sp)"
   ]
  },
  {
   "cell_type": "code",
   "execution_count": 66,
   "metadata": {},
   "outputs": [
    {
     "name": "stdout",
     "output_type": "stream",
     "text": [
      "0.93\n"
     ]
    }
   ],
   "source": [
    "# a sample size of N = 32 fulfills the requirements of 90% chance of passing the statistical test. \n",
    "print(stat(32))"
   ]
  },
  {
   "cell_type": "code",
   "execution_count": null,
   "metadata": {},
   "outputs": [],
   "source": []
  }
 ],
 "metadata": {
  "kernelspec": {
   "display_name": "Python 3",
   "language": "python",
   "name": "python3"
  },
  "language_info": {
   "codemirror_mode": {
    "name": "ipython",
    "version": 3
   },
   "file_extension": ".py",
   "mimetype": "text/x-python",
   "name": "python",
   "nbconvert_exporter": "python",
   "pygments_lexer": "ipython3",
   "version": "3.8.5"
  }
 },
 "nbformat": 4,
 "nbformat_minor": 4
}
