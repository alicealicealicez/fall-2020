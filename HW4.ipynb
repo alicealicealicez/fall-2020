{
 "cells": [
  {
   "cell_type": "markdown",
   "metadata": {},
   "source": [
    "# Homework 4\n",
    "\n",
    "### See [Blackboard](https://learn.bu.edu) for assignment and due dates"
   ]
  },
  {
   "cell_type": "markdown",
   "metadata": {},
   "source": [
    "Please enter your code and responses below and save the results to submit through Blackboard. Your code should follow the guidelines laid out in class, including commenting. Partial credit will be given for nonfunctional code that is logical and well commented. **This assignment must be completed on your own**."
   ]
  },
  {
   "cell_type": "markdown",
   "metadata": {},
   "source": [
    "## Problem 4.1 (50%):\n",
    "\n",
    "In this problem you will implement aspects of the LCS algorithm discussed in **Lecture 3**. Create a script in the box below. This script must contain the two functions described below, plus any additional code you need to run the script.\n",
    "\n",
    "* ```compute_lcs```: this function takes as input two sequences and ```returns``` (not prints) the LCS matrix.\n",
    "* ```print_lcs```: this function takes as input the same two sequences as well as the computed LCS matrix (from ```compute_lcs```) and prints the LCS Plot. For full credit, ```print_lcs``` should:\n",
    "    * print the two sequences one below the other\n",
    "    * display every row of the LCS matrix on a separate line.\n",
    "    * **Extra credit**: print the sequence characters next to their associated rows and columns as seen in the example below."
   ]
  },
  {
   "cell_type": "raw",
   "metadata": {},
   "source": [
    "Sequence A = \"AACTGGCAG\"\n",
    "Sequence B = \"TACGCTGGA\"\n",
    "\n",
    "Example output:\n",
    "\n",
    "  A A C T G G C A G\n",
    "T 0 0 0 1 0 0 0 0 0\n",
    "A 1 1 0 0 0 0 0 1 0\n",
    "C 0 0 2 0 0 0 0 1 0\n",
    "G 0 0 0 0 1 1 0 0 1\n",
    "C 0 0 1 0 0 0 2 0 0\n",
    "T 0 0 0 2 0 0 0 0 0\n",
    "G 0 0 0 0 3 0 0 0 0\n",
    "G 0 0 0 0 1 4 0 0 1\n",
    "A 1 1 0 0 0 0 0 1 0"
   ]
  },
  {
   "cell_type": "code",
   "execution_count": 1,
   "metadata": {},
   "outputs": [
    {
     "name": "stdout",
     "output_type": "stream",
     "text": [
      "Sequence A =  AACTGGCAG\n",
      "Sequence B =  TACGCTGGA\n",
      "[0, 'A', 'A', 'C', 'T', 'G', 'G', 'C', 'A', 'G']\n",
      "['T', 0, 1, 0, 0, 0, 0, 0, 0, 1]\n",
      "['A', 0, 1, 0, 0, 0, 0, 0, 0, 1]\n",
      "['C', 0, 0, 2, 0, 1, 0, 0, 0, 0]\n",
      "['G', 1, 0, 0, 0, 0, 2, 0, 0, 0]\n",
      "['C', 0, 0, 0, 1, 0, 0, 3, 1, 0]\n",
      "['T', 0, 0, 0, 1, 0, 0, 1, 4, 0]\n",
      "['G', 0, 0, 1, 0, 2, 0, 0, 0, 0]\n",
      "['G', 0, 1, 0, 0, 0, 0, 0, 0, 1]\n",
      "['A', 0, 0, 0, 1, 0, 0, 1, 1, 0]\n"
     ]
    }
   ],
   "source": [
    "#write your python code here\n",
    "\n",
    "def compute_lcs(a,b):\n",
    "    #initialize matrix\n",
    "    lcs = [[0 for i in range(len(a)+1)]for j in range(len(b)+1)]\n",
    "    for i in range(len(lcs[0])-1):\n",
    "        lcs[0][i+1] = a[i]\n",
    "    for i in range(len(lcs)-1):\n",
    "        lcs[i+1][0] = b[i]\n",
    "    \n",
    "    #computing scores\n",
    "    score = 0\n",
    "    for i in range(len(lcs[0])-1):  \n",
    "        for j in range(len(lcs)-1):\n",
    "            if lcs[0][i+1] == lcs[j+1][0]:\n",
    "                if isinstance(lcs[i][j],int):\n",
    "                    score = lcs[i][j] +1\n",
    "                else: \n",
    "                    score = 1\n",
    "                lcs[i+1][j+1] = score\n",
    "            else:\n",
    "                score = 0\n",
    "                lcs[i+1][j+1] = score\n",
    "    return lcs\n",
    "\n",
    "def print_lcs(a,b):\n",
    "    c = compute_lcs(a, b)\n",
    "    print(\"Sequence A = \", a)\n",
    "    print(\"Sequence B = \", b)\n",
    "    for i in c:\n",
    "        print(i)\n",
    "    \n",
    "\n",
    "A = \"AACTGGCAG\"\n",
    "B = \"TACGCTGGA\"\n",
    "\n",
    "print_lcs(A,B)"
   ]
  },
  {
   "cell_type": "markdown",
   "metadata": {},
   "source": [
    "## Problem 4.2 (40%):\n",
    "\n",
    "Detecting orthologous genes between two genomes is an important task in bioinformatics. BLAST can be used as a simple ortholog detector. We first perform a BLAST search of a given protein from Genome 1 (protein A) against Genome 2. We then take the best matching protein from Genome 2 (protein B) and perform a BLAST search against Genome 1. If the best matching protein from Genome 1 is protein A, then we conclude that protein A and protein B are orthologous (i.e., the genes that encode them are orthologs). This is called the *reciprocal best hit strategy*.\n",
    "\n",
    "**(A)** The following protein is derived from the genome of *Sacchromyces cerevisiae* (Taxonomic ID: 4932) (baker’s yeast). Using BLAST, perform a reciprocal best hit search against:\n",
    "\n",
    "* Candida albicans (5476)\n",
    "* Haloquadratum walsbyi (293091)\n",
    "* Homo sapiens (9606)\n",
    "\n",
    "At each step describe the best hit you discover and comment on its degree of similarity to your query protein. If an orthology relationship is found, state it; if not, suggest a biological explanation."
   ]
  },
  {
   "cell_type": "raw",
   "metadata": {},
   "source": [
    ">gi|170986|gb|AAA34391.1| actin [Saccharomyces cerevisiae] MDSEVAALVIDNGSGMCKAGFAGDDAPRAVFPSIVGRPRHQGIMVGMGQKDSYVGDEAQSKRGILTLRYPIEHGIVTNWDDMEKIWHHTFYNELRVAPEEHPVLLTEAPMNPKSNREKMTQIMFETFNVPAFYVSIQAVLSLYSSGRTTGIVLDSGDGVTHVVPIYAGFSLPHAILRIDLAGRDLTDYLMKILSERGYSFSTTAEREIVRDIKEKLCYVALDFEQEMQTAAQSSSIEKSYELPDGQVITIGNERFRAPEALFHPSVLGLESAGIDQTTYNSIMKCDVDVRKELYGNIVMSGGTTMFPGIAERMQKEITALAPSSMKVKIIAPPERKYSVWIGGSILASLTTFQQMWISKQEYDESGPSIVHHKCF"
   ]
  },
  {
   "cell_type": "raw",
   "metadata": {},
   "source": [
    "1. The best matching protein with Candida albicans has 100% similarity, making them orthologs.\n",
    "2. There are no significant matched with Haloquadratum walsbyi, this means that they do not share the actin protein.\n",
    "3. The best matching protein with Homo sapiens has 100% similarity, making them orthologs.\n"
   ]
  },
  {
   "cell_type": "markdown",
   "metadata": {},
   "source": [
    "**(B)** Describe a BLAST-based procedure (either in a paragraph or with pseudocode) for determining all orthology relationships between a pair of genomes. You may assume that the genomes have been provided in FASTA format with one protein per entry. You DO NOT need to implement your procedure in python."
   ]
  },
  {
   "cell_type": "raw",
   "metadata": {},
   "source": [
    "1. first convert the fasta file of proteins into a list\n",
    "2. Increment through the list, for each of the proteins run a BLAST search of the protein sequence against genome 1 and genome 2\n",
    "3. if the best match score is 100% for both genome 1 and genome 2, then the two genomes are orthologs for that protein, add protein to list of orthologs"
   ]
  },
  {
   "cell_type": "markdown",
   "metadata": {},
   "source": [
    "## Problem 4.3 (10%):\n",
    "\n",
    "Thought question: how could you use your python script from part 4.1 and python's random library to estimate the probability of observing an LCS of length 4 between two random DNA sequences of length 9? How could you estimate the statistical significance (p-value) of this occurrence?"
   ]
  },
  {
   "cell_type": "raw",
   "metadata": {},
   "source": [
    "To estimate the probability of observing an LCS of length 4, we can randomly generate a lot of sequences of length 9. After running the random sequences through the python script, we can increment through the resulting matrix to check for the length of the LCS. With the resulting LCS lengths from many iterations, we can then calculate the probability of observing a LCS of length 4. The p-value can be estimated by comparing the probability of getting a LCS other than 4 with that of getting one with length 4. "
   ]
  }
 ],
 "metadata": {
  "anaconda-cloud": {},
  "kernelspec": {
   "display_name": "Python 3",
   "language": "python",
   "name": "python3"
  },
  "language_info": {
   "codemirror_mode": {
    "name": "ipython",
    "version": 3
   },
   "file_extension": ".py",
   "mimetype": "text/x-python",
   "name": "python",
   "nbconvert_exporter": "python",
   "pygments_lexer": "ipython3",
   "version": "3.8.5"
  }
 },
 "nbformat": 4,
 "nbformat_minor": 1
}
